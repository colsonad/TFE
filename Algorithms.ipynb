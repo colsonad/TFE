{
 "cells": [
  {
   "cell_type": "code",
   "execution_count": null,
   "metadata": {},
   "outputs": [],
   "source": [
    "from Modele import Modele\n",
    "from Optimiseur import Optimiseur\n",
    "import numpy as np\n",
    "import matplotlib.pyplot as plt"
   ]
  },
  {
   "cell_type": "code",
   "execution_count": null,
   "metadata": {},
   "outputs": [],
   "source": [
    "data = np.load('ckn_mnist.npz')\n",
    "\n",
    "# Access the arrays in the dataset\n",
    "images = data['X']\n",
    "labels = data['y']\n",
    "#  Binarization of the labels\n",
    "labels = np.where(labels < 5, -1, 1)"
   ]
  },
  {
   "cell_type": "code",
   "execution_count": null,
   "metadata": {},
   "outputs": [],
   "source": [
    "n=2000\n",
    "\n",
    "indices = np.random.choice(images.shape[0], n, replace=False)\n",
    "images_ = images[indices]\n",
    "labels_ = labels[indices]\n",
    "# Separe the dataset into training and testing\n",
    "n_train = int(n*0.8)\n",
    "train_images = images_[:n_train]\n",
    "train_labels = labels_[:n_train]\n",
    "test_images = images_[n_train:]\n",
    "test_labels = labels_[n_train:]\n",
    "# Reshape the images to 2D\n",
    "X_train = train_images.reshape(train_images.shape[0], -1)\n",
    "X_test = test_images.reshape(test_images.shape[0], -1)\n",
    "y_train = train_labels.reshape(-1)\n",
    "y_test = test_labels.reshape(-1)"
   ]
  },
  {
   "cell_type": "code",
   "execution_count": null,
   "metadata": {},
   "outputs": [],
   "source": [
    "modele = Modele(0,30)\n",
    "optimiseur = Optimiseur(modele)\n",
    "L,mu = modele.constante_L(X_train)"
   ]
  },
  {
   "cell_type": "code",
   "execution_count": null,
   "metadata": {},
   "outputs": [],
   "source": [
    "modele = Modele(0,0.5)\n",
    "optimiseur = Optimiseur(modele)\n",
    "max_iters=5000\n",
    "target=0.03\n",
    "criterion='norm'\n",
    "\n",
    "n_lr= 20\n",
    "nb_init = 10\n",
    "\n",
    "train_loss_003_2k = np.zeros((n_lr,nb_init))\n",
    "test_loss_003_2k = np.zeros((n_lr,nb_init))\n",
    "norm_003_2k = np.zeros((n_lr,nb_init))\n",
    "train_accuracy_003_2k = np.zeros((n_lr,nb_init))\n",
    "test_accuracy_003_2k = np.zeros((n_lr,nb_init))\n",
    "nb_ite_003_2k = np.zeros((n_lr,nb_init))\n",
    "\n",
    "for i in range(nb_init):\n",
    "    init= np.random.randn(X_train.shape[0]) \n",
    "\n",
    "    L_003_2k,mu = modele.constante_L(X_train)\n",
    "    learning_rates = np.linspace(1/L_003_2k,1.99/L_003_2k,n_lr)\n",
    "\n",
    "    j=0\n",
    "    for lr in learning_rates:\n",
    "        alpha, alpha_list = optimiseur.gradient_descent(X_train, y_train, init.copy(),lr, max_iters, target, criterion)\n",
    "        train_loss_003_2k[j,i] = modele.loss_function(X_train, y_train, alpha)\n",
    "        test_loss_003_2k[j,i] = modele.test_loss_function(X_train,X_test, y_test,alpha)\n",
    "        norm_003_2k[j,i] = np.linalg.norm(modele.gradient(X_train, y_train, alpha))\n",
    "        train_accuracy_003_2k[j,i] = modele.accuracy(X_train,X_train, y_train, alpha)\n",
    "        test_accuracy_003_2k[j,i] = modele.accuracy(X_train,X_test, y_test, alpha)\n",
    "        nb_ite_003_2k[j,i] = len(alpha_list)\n",
    "\n",
    "        j+=1\n",
    "\n",
    "print(\"dimensions alphas: (n_lr,nb_init,X_train.shape[0])\")"
   ]
  },
  {
   "cell_type": "code",
   "execution_count": null,
   "metadata": {},
   "outputs": [],
   "source": [
    "learning_rates = np.linspace(1,1.99,n_lr)\n",
    "\n",
    "print(nb_ite_003_2k)\n",
    "\n",
    "test_accuracy_mean = np.mean(test_accuracy_003_2k[:,:6], axis=1)\n",
    "test_accuracy_std = np.std(test_accuracy_003_2k[:,:6], axis=1)\n",
    "\n",
    "ts = np.linspace(1,1.99,n_lr)\n",
    "\n",
    "\n",
    "plt.figure()\n",
    "plt.scatter(ts, test_accuracy_mean, label='Test Accuracy')\n",
    "plt.plot(ts, test_accuracy_mean)\n",
    "plt.fill_between(ts, test_accuracy_mean - test_accuracy_std, test_accuracy_mean + test_accuracy_std, alpha=0.2)\n",
    "plt.xlabel('Learning Rate * L')\n",
    "plt.ylabel('Accuracy')\n",
    "plt.title('Accuracy vs Learning Rate')\n",
    "plt.legend()\n",
    "plt.show()"
   ]
  }
 ],
 "metadata": {
  "kernelspec": {
   "display_name": "Python 3",
   "language": "python",
   "name": "python3"
  },
  "language_info": {
   "codemirror_mode": {
    "name": "ipython",
    "version": 3
   },
   "file_extension": ".py",
   "mimetype": "text/x-python",
   "name": "python",
   "nbconvert_exporter": "python",
   "pygments_lexer": "ipython3",
   "version": "3.13.1"
  }
 },
 "nbformat": 4,
 "nbformat_minor": 2
}
