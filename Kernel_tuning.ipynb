{
 "cells": [
  {
   "cell_type": "markdown",
   "metadata": {},
   "source": [
    "## Tuning of the RBF parameter for the CKN-MNIST dataset"
   ]
  },
  {
   "cell_type": "code",
   "execution_count": null,
   "metadata": {},
   "outputs": [],
   "source": [
    "from Modele import Modele\n",
    "from Optimiseur import Optimiseur\n",
    "import numpy as np\n",
    "import matplotlib.pyplot as plt"
   ]
  },
  {
   "cell_type": "code",
   "execution_count": null,
   "metadata": {},
   "outputs": [],
   "source": [
    "# Load the dataset\n",
    "data = np.load('ckn_mnist.npz')\n",
    "\n",
    "# Access the arrays in the dataset\n",
    "images = data['X']\n",
    "labels = data['y']\n",
    "# Binarization of the labels\n",
    "labels = np.where(labels < 5, -1, 1)\n",
    "\n",
    "print(f\"Images shape: {images.shape}\")\n",
    "print(f\"Labels shape: {labels.shape}\")\n",
    "\n",
    "n=1000\n",
    "\n",
    "x_values = np.random.randint(0, images.shape[0] - n, size=10)\n",
    "x=0\n",
    "# Take only n images for training\n",
    "images = images[x:x+n]\n",
    "labels = labels[x:x+n]\n",
    "# Separet the dataset into training and testing\n",
    "n_train = int(n*0.8)\n",
    "train_images = images[:n_train]\n",
    "train_labels = labels[:n_train]\n",
    "test_images = images[n_train:]\n",
    "test_labels = labels[n_train:]\n",
    "\n",
    "# Reshape the images to 2D\n",
    "X_train = train_images.reshape(train_images.shape[0], -1)\n",
    "X_test = test_images.reshape(test_images.shape[0], -1)\n",
    "y_train = train_labels.reshape(-1)\n",
    "y_test = test_labels.reshape(-1)\n",
    "\n",
    "print(\"Training data shape: \", X_train.shape)\n",
    "print(\"Test data shape: \", X_test.shape)"
   ]
  },
  {
   "cell_type": "code",
   "execution_count": null,
   "metadata": {},
   "outputs": [],
   "source": [
    "# Choose the gamma values to test\n",
    "gammas = [1e-5,1e-4,1e-3,1e-2,1e-1,1,1e1,1e2,1e3,1e4,1e5]\n",
    "alphas = []\n",
    "train_loss = []\n",
    "train_accuracy = []\n",
    "test_accuracy = []\n",
    "\n",
    "# Iterate over the gamma values and compute the results for the optimal alpha\n",
    "for gamma in gammas:\n",
    "    modele = Modele(0,gamma)\n",
    "    alpha = modele.alpha_opt(X_train,y_train,gamma)\n",
    "    alphas.append(alpha)\n",
    "    train_loss.append(modele.loss_function(X_train,y_train,alpha))\n",
    "    train_accuracy.append(modele.accuracy(X_train,X_train,y_train,alpha))\n",
    "    test_accuracy.append(modele.accuracy(X_train,X_test,y_test,alpha))"
   ]
  },
  {
   "cell_type": "code",
   "execution_count": null,
   "metadata": {},
   "outputs": [],
   "source": [
    "# Plot the results\n",
    "best_test = np.where(test_accuracy == np.max(test_accuracy))[0]\n",
    "best_train = np.where(train_accuracy == np.max(train_accuracy))[0]\n",
    "\n",
    "print(\"best gamma range for train: \", [gammas[i] for i in best_train])\n",
    "print(\"best gamma range for test: \", [gammas[i] for i in best_test])"
   ]
  },
  {
   "cell_type": "code",
   "execution_count": null,
   "metadata": {},
   "outputs": [],
   "source": [
    "# Plotting the results on a Figure\n",
    "plt.figure()\n",
    "plt.scatter(gammas, test_accuracy)\n",
    "plt.plot(gammas, test_accuracy, label='Test accuracy')\n",
    "plt.xlabel('Parameter Gamma (log scale)')\n",
    "plt.xscale('log')\n",
    "plt.ylabel('Test Accuracy')\n",
    "plt.title('Test Accuracy for different parameter gamma')\n",
    "plt.savefig('accuracy_rbf.pdf')\n",
    "plt.show()\n",
    "\n",
    "plt.figure()\n",
    "plt.scatter(gammas,train_loss)\n",
    "plt.plot(gammas, train_loss, label='Train loss')\n",
    "plt.xlabel('Parameter Gamma (log scale)')\n",
    "plt.xscale('log')\n",
    "plt.yscale('log')\n",
    "plt.ylabel('Train loss (log scale)')\n",
    "plt.title('Train loss for different parameter gamma')\n",
    "plt.legend()\n",
    "plt.show()\n",
    "\n"
   ]
  },
  {
   "cell_type": "code",
   "execution_count": null,
   "metadata": {},
   "outputs": [],
   "source": [
    "# Now we will test the model with a finer range of gamma values\n",
    "gammas_2 = np.linspace(1e-2,1e2,50)\n",
    "alphas_2 = []\n",
    "train_loss_2 = []\n",
    "train_accuracy_2 = []\n",
    "test_accuracy_2 = []\n",
    "\n",
    "for gamma in gammas_2:\n",
    "    modele = Modele(0,gamma)\n",
    "    alpha = modele.alpha_opt(X_train,y_train,gamma)\n",
    "    alphas_2.append(alpha)\n",
    "    train_loss_2.append(modele.loss_function(X_train,y_train,alpha))\n",
    "    train_accuracy_2.append(modele.accuracy(X_train,X_train,y_train,alpha))\n",
    "    test_accuracy_2.append(modele.accuracy(X_train,X_test,y_test,alpha))"
   ]
  },
  {
   "cell_type": "code",
   "execution_count": null,
   "metadata": {},
   "outputs": [],
   "source": [
    "best_test = np.where(test_accuracy_2 == np.max(test_accuracy_2))[0]\n",
    "best_train = np.where(train_accuracy_2 == np.max(train_accuracy_2))[0]\n",
    "\n",
    "print(\"best gamma range for train: \", [gammas_2[i] for i in best_train])\n",
    "print(\"best gamma range for test: \", [gammas_2[i] for i in best_test])"
   ]
  },
  {
   "cell_type": "code",
   "execution_count": null,
   "metadata": {},
   "outputs": [],
   "source": [
    "plt.figure()\n",
    "plt.scatter(gammas_2, test_accuracy_2)\n",
    "plt.plot(gammas_2, test_accuracy_2, label='Test accuracy')\n",
    "plt.xlabel('Parameter Gamma')\n",
    "plt.ylabel('Test Accuracy')\n",
    "plt.title('Test Accuracy for different parameter gamma')\n",
    "plt.savefig('accuracy_rbf_2.pdf')\n",
    "plt.show()\n",
    "\n",
    "plt.figure()\n",
    "plt.scatter(gammas_2,train_loss_2)\n",
    "plt.plot(gammas_2, train_loss_2, label='Train loss')\n",
    "plt.xlabel('Parameter Gamma (log scale)')\n",
    "plt.xscale('log')\n",
    "plt.yscale('log')\n",
    "plt.ylabel('Train loss (log scale)')\n",
    "plt.title('Train loss for different parameter gamma')\n",
    "plt.legend()\n",
    "plt.show()\n",
    "\n"
   ]
  }
 ],
 "metadata": {
  "kernelspec": {
   "display_name": "Python 3",
   "language": "python",
   "name": "python3"
  },
  "language_info": {
   "codemirror_mode": {
    "name": "ipython",
    "version": 3
   },
   "file_extension": ".py",
   "mimetype": "text/x-python",
   "name": "python",
   "nbconvert_exporter": "python",
   "pygments_lexer": "ipython3",
   "version": "3.13.1"
  }
 },
 "nbformat": 4,
 "nbformat_minor": 2
}
